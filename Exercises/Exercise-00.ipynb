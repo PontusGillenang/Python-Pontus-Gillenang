{
 "cells": [
  {
   "cell_type": "markdown",
   "metadata": {},
   "source": [
    "# Exercise-00 Count with Python\n",
    "[Link to the exercise tasks][exercise_00]\n",
    "\n",
    "[exercise_00]: https://github.com/kokchun/Python-course-AI22/blob/main/Exercises/00-Count-with-Python-exercise.ipynb"
   ]
  },
  {
   "cell_type": "markdown",
   "metadata": {},
   "source": [
    "## 1. Pythagorean theorem"
   ]
  },
  {
   "cell_type": "code",
   "execution_count": 13,
   "metadata": {},
   "outputs": [
    {
     "name": "stdout",
     "output_type": "stream",
     "text": [
      "a) The hypothenuse is 5.0 length units\n",
      "b) The other cathetus is 4.9 length units\n"
     ]
    }
   ],
   "source": [
    "import math\n",
    "\n",
    "a = 3\n",
    "b = 4\n",
    "\n",
    "c = math.sqrt(a**2 + b**2)\n",
    "\n",
    "print(f\"a) The hypothenuse is {c} length units\")\n",
    "\n",
    "a = 5\n",
    "c = 7\n",
    "\n",
    "b = math.sqrt(c**2 - a**2)\n",
    "\n",
    "print(f\"b) The other cathetus is {b:.1f} length units\")"
   ]
  },
  {
   "cell_type": "markdown",
   "metadata": {},
   "source": [
    "## 2. Classification accuracy"
   ]
  },
  {
   "cell_type": "code",
   "execution_count": 22,
   "metadata": {},
   "outputs": [
    {
     "name": "stdout",
     "output_type": "stream",
     "text": [
      "The accuracy of the algorithm model is 82.19%\n"
     ]
    }
   ],
   "source": [
    "days_year = 365\n",
    "predicted_correct = 300\n",
    "\n",
    "accuracy = predicted_correct/days_year * 100\n",
    "\n",
    "print(f\"The accuracy of the algorithm model is {accuracy:.2f}%\")"
   ]
  },
  {
   "cell_type": "markdown",
   "metadata": {},
   "source": [
    "## 3. Classification accuracy"
   ]
  },
  {
   "cell_type": "code",
   "execution_count": 30,
   "metadata": {},
   "outputs": [
    {
     "name": "stdout",
     "output_type": "stream",
     "text": [
      "The accuracy of this model is 98.7%\n",
      "The model has a high accuracy so I would consider it good, but should strive for the highest possible accuracy.\n"
     ]
    }
   ],
   "source": [
    "tp = 2\n",
    "tn = 985\n",
    "fp = 2\n",
    "fn = 11\n",
    "\n",
    "accuracy = (tp + tn) / (tp + tn + fp + fn) * 100\n",
    "\n",
    "print(f\"The accuracy of this model is {accuracy}%\")\n",
    "print(\"The model has a high accuracy so I would consider it good, but should strive for the highest possible accuracy.\")"
   ]
  }
 ],
 "metadata": {
  "kernelspec": {
   "display_name": "Python 3.9.13 ('Python-Pontus-Gillenang-IiP32uy3')",
   "language": "python",
   "name": "python3"
  },
  "language_info": {
   "codemirror_mode": {
    "name": "ipython",
    "version": 3
   },
   "file_extension": ".py",
   "mimetype": "text/x-python",
   "name": "python",
   "nbconvert_exporter": "python",
   "pygments_lexer": "ipython3",
   "version": "3.9.13"
  },
  "orig_nbformat": 4,
  "vscode": {
   "interpreter": {
    "hash": "361fa5c9d5d1f198330c27440a011a3c79162bc7aaaaa09c789447120907a740"
   }
  }
 },
 "nbformat": 4,
 "nbformat_minor": 2
}
