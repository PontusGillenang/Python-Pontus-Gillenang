{
 "cells": [
  {
   "cell_type": "markdown",
   "metadata": {},
   "source": [
    "# Exercise-03 For statement exercises\n",
    "[Link to the exercise tasks][exercise_03]\n",
    "\n",
    "[exercise_03]: https://github.com/kokchun/Python-course-AI22/blob/main/Exercises/03-for-statement-exercise.ipynb"
   ]
  },
  {
   "cell_type": "markdown",
   "metadata": {},
   "source": [
    "## 1. Count numbers"
   ]
  },
  {
   "cell_type": "markdown",
   "metadata": {},
   "source": [
    "### a)"
   ]
  },
  {
   "cell_type": "code",
   "execution_count": 30,
   "metadata": {},
   "outputs": [
    {
     "name": "stdout",
     "output_type": "stream",
     "text": [
      "-10 -9 -8 -7 -6 -5 -4 -3 -2 -1 0 1 2 3 4 5 6 7 8 9 10 "
     ]
    }
   ],
   "source": [
    "for number in range(-10,11):\n",
    "    print(number, end=\" \")"
   ]
  },
  {
   "cell_type": "markdown",
   "metadata": {},
   "source": [
    "### b)"
   ]
  },
  {
   "cell_type": "code",
   "execution_count": 31,
   "metadata": {},
   "outputs": [
    {
     "name": "stdout",
     "output_type": "stream",
     "text": [
      "-10 -8 -6 -4 -2 0 2 4 6 8 10 "
     ]
    }
   ],
   "source": [
    "for number in range(-10,11,2):\n",
    "    print(number, end=\" \")"
   ]
  },
  {
   "cell_type": "markdown",
   "metadata": {},
   "source": [
    "## 2. Arithmetic sum"
   ]
  },
  {
   "cell_type": "markdown",
   "metadata": {},
   "source": [
    "### a)"
   ]
  },
  {
   "cell_type": "code",
   "execution_count": null,
   "metadata": {},
   "outputs": [
    {
     "name": "stdout",
     "output_type": "stream",
     "text": [
      "1 + 2 + 3 + 4 + 5 + 6 + 7 + 8 + 9 + 10 + 11 + 12 + 13 + 14 + 15 + 16 + 17 + 18 + 19 + 20 + 21 + 22 + 23 + 24 + 25 + 26 + 27 + 28 + 29 + 30 + 31 + 32 + 33 + 34 + 35 + 36 + 37 + 38 + 39 + 40 + 41 + 42 + 43 + 44 + 45 + 46 + 47 + 48 + 49 + 50 + 51 + 52 + 53 + 54 + 55 + 56 + 57 + 58 + 59 + 60 + 61 + 62 + 63 + 64 + 65 + 66 + 67 + 68 + 69 + 70 + 71 + 72 + 73 + 74 + 75 + 76 + 77 + 78 + 79 + 80 + 81 + 82 + 83 + 84 + 85 + 86 + 87 + 88 + 89 + 90 + 91 + 92 + 93 + 94 + 95 + 96 + 97 + 98 + 99 + 100 +  = 5050\n"
     ]
    }
   ],
   "source": [
    "total_sum = 0\n",
    "\n",
    "for number in range(1,101):\n",
    "    total_sum += number\n",
    "    print(number, end=\" + \")\n",
    "    if number == 100:\n",
    "        print(end=\" = \")\n",
    "\n",
    "print(total_sum)"
   ]
  },
  {
   "cell_type": "markdown",
   "metadata": {},
   "source": [
    "### b)"
   ]
  },
  {
   "cell_type": "code",
   "execution_count": null,
   "metadata": {},
   "outputs": [
    {
     "name": "stdout",
     "output_type": "stream",
     "text": [
      "1 + 3 + 5 + 7 + 9 + 11 + 13 + 15 + 17 + 19 + 21 + 23 + 25 + 27 + 29 + 31 + 33 + 35 + 37 + 39 + 41 + 43 + 45 + 47 + 49 + 51 + 53 + 55 + 57 + 59 + 61 + 63 + 65 + 67 + 69 + 71 + 73 + 75 + 77 + 79 + 81 + 83 + 85 + 87 + 89 + 91 + 93 + 95 + 97 + 99 +  = 2500\n"
     ]
    }
   ],
   "source": [
    "total_sum = 0\n",
    "\n",
    "for number in range(1,100,2):\n",
    "    total_sum += number\n",
    "    print(number, end=\" + \")\n",
    "    if number == 99:\n",
    "        print(end=\" = \")\n",
    "\n",
    "print(total_sum)"
   ]
  },
  {
   "cell_type": "markdown",
   "metadata": {},
   "source": [
    "## 3. Multiplication table"
   ]
  },
  {
   "cell_type": "markdown",
   "metadata": {},
   "source": [
    "### a)"
   ]
  },
  {
   "cell_type": "code",
   "execution_count": 1,
   "metadata": {},
   "outputs": [
    {
     "name": "stdout",
     "output_type": "stream",
     "text": [
      "0 6 12 18 24 30 36 42 48 54 60 "
     ]
    }
   ],
   "source": [
    "table_number = 6\n",
    "\n",
    "for number in range(0,11):\n",
    "    result = table_number * number\n",
    "    print(result, end=\" \")"
   ]
  },
  {
   "cell_type": "markdown",
   "metadata": {},
   "source": [
    "### b)"
   ]
  },
  {
   "cell_type": "code",
   "execution_count": 2,
   "metadata": {},
   "outputs": [
    {
     "name": "stdout",
     "output_type": "stream",
     "text": [
      "7 * 9 = 63\n",
      "7 * 10 = 70\n",
      "7 * 11 = 77\n",
      "7 * 12 = 84\n",
      "7 * 13 = 91\n",
      "7 * 14 = 98\n",
      "7 * 15 = 105\n",
      "7 * 16 = 112\n",
      "7 * 17 = 119\n"
     ]
    }
   ],
   "source": [
    "user_table_number = int(input(\"Which multiplication table do you what to calculate (integer)? \"))\n",
    "user_start_number = int(input(\"Which number do you want to start with (integer)? \"))\n",
    "user_end_number = int(input(\"Which number do you want to end with (integer)? \"))\n",
    "\n",
    "for number in range(user_start_number, user_end_number + 1):\n",
    "    result = user_table_number * number\n",
    "    print(f\"{user_table_number} * {number} = {result}\")"
   ]
  },
  {
   "cell_type": "markdown",
   "metadata": {},
   "source": [
    "### c)"
   ]
  },
  {
   "cell_type": "code",
   "execution_count": 4,
   "metadata": {},
   "outputs": [
    {
     "name": "stdout",
     "output_type": "stream",
     "text": [
      "\n",
      "\n",
      "0 0 0 0 0 0 0 0 0 0 0 \n",
      "\n",
      "0 1 2 3 4 5 6 7 8 9 10 \n",
      "\n",
      "0 2 4 6 8 10 12 14 16 18 20 \n",
      "\n",
      "0 3 6 9 12 15 18 21 24 27 30 \n",
      "\n",
      "0 4 8 12 16 20 24 28 32 36 40 \n",
      "\n",
      "0 5 10 15 20 25 30 35 40 45 50 \n",
      "\n",
      "0 6 12 18 24 30 36 42 48 54 60 \n",
      "\n",
      "0 7 14 21 28 35 42 49 56 63 70 \n",
      "\n",
      "0 8 16 24 32 40 48 56 64 72 80 \n",
      "\n",
      "0 9 18 27 36 45 54 63 72 81 90 \n",
      "\n",
      "0 10 20 30 40 50 60 70 80 90 100 "
     ]
    }
   ],
   "source": [
    "for table_number in range(0,11):\n",
    "    print(\"\\n\")\n",
    "    for number in range(0,11):\n",
    "        print(f\"{table_number * number}\", end=\" \")"
   ]
  },
  {
   "cell_type": "markdown",
   "metadata": {},
   "source": [
    "## 4. Faculty"
   ]
  },
  {
   "cell_type": "code",
   "execution_count": null,
   "metadata": {},
   "outputs": [
    {
     "name": "stdout",
     "output_type": "stream",
     "text": [
      "For the number 9 the factorial (n!) equals 362880.\n"
     ]
    }
   ],
   "source": [
    "n = int(input(\"Enter a integer number: \"))\n",
    "sum_total = 1\n",
    "\n",
    "for number in range(1, n + 1):\n",
    "    sum_total *= number\n",
    "\n",
    "print(f\"For the number {n} the factorial (n!) equals {sum_total}.\")\n",
    "# Used as a source https://en.wikipedia.org/wiki/Factorial"
   ]
  },
  {
   "cell_type": "markdown",
   "metadata": {},
   "source": [
    "## 5. Guess the number"
   ]
  },
  {
   "cell_type": "code",
   "execution_count": null,
   "metadata": {},
   "outputs": [
    {
     "name": "stdout",
     "output_type": "stream",
     "text": [
      "After 103 number of guesses the number 1103 was guessed\n"
     ]
    }
   ],
   "source": [
    "import random as rnd\n",
    "\n",
    "computer_guess = rnd.randint(1000,9999)\n",
    "guesses = 0\n",
    "for number in range(1000,10000):\n",
    "    if number == computer_guess:\n",
    "        print(f\"After {guesses} number of guesses the number {computer_guess} was guessed\")\n",
    "    guesses += 1"
   ]
  }
 ],
 "metadata": {
  "kernelspec": {
   "display_name": "Python 3.9.13 ('Python-Pontus-Gillenang-IiP32uy3')",
   "language": "python",
   "name": "python3"
  },
  "language_info": {
   "codemirror_mode": {
    "name": "ipython",
    "version": 3
   },
   "file_extension": ".py",
   "mimetype": "text/x-python",
   "name": "python",
   "nbconvert_exporter": "python",
   "pygments_lexer": "ipython3",
   "version": "3.9.13"
  },
  "orig_nbformat": 4,
  "vscode": {
   "interpreter": {
    "hash": "361fa5c9d5d1f198330c27440a011a3c79162bc7aaaaa09c789447120907a740"
   }
  }
 },
 "nbformat": 4,
 "nbformat_minor": 2
}
