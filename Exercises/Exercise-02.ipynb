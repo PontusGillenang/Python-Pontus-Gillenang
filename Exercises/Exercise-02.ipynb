{
 "cells": [
  {
   "cell_type": "markdown",
   "metadata": {},
   "source": [
    "# Exercise-02 While statement exercises\n",
    "[Link to the exercise tasks][exercise_02]\n",
    "\n",
    "[exercise_02]: https://github.com/kokchun/Python-course-AI22/blob/main/Exercises/02-while-statement-exercise.ipynb"
   ]
  },
  {
   "cell_type": "markdown",
   "metadata": {},
   "source": [
    "## 1. Count numbers"
   ]
  },
  {
   "cell_type": "code",
   "execution_count": 3,
   "metadata": {},
   "outputs": [
    {
     "name": "stdout",
     "output_type": "stream",
     "text": [
      "-10\n",
      "-9\n",
      "-8\n",
      "-7\n",
      "-6\n",
      "-5\n",
      "-4\n",
      "-3\n",
      "-2\n",
      "-1\n",
      "0\n",
      "1\n",
      "2\n",
      "3\n",
      "4\n",
      "5\n",
      "6\n",
      "7\n",
      "8\n",
      "9\n",
      "10\n"
     ]
    }
   ],
   "source": [
    "number = -10\n",
    "\n",
    "while number < 11:\n",
    "    print(number)\n",
    "    number += 1"
   ]
  },
  {
   "cell_type": "markdown",
   "metadata": {},
   "source": [
    "## 2. Arithmetic sum"
   ]
  },
  {
   "cell_type": "code",
   "execution_count": 12,
   "metadata": {},
   "outputs": [
    {
     "name": "stdout",
     "output_type": "stream",
     "text": [
      "a) The sum is 5050\n",
      "b) The sum is 2500\n"
     ]
    }
   ],
   "source": [
    "number = 1\n",
    "sum = 0\n",
    "\n",
    "while number <= 100:\n",
    "    sum += number\n",
    "    number += 1\n",
    "print(f\"a) The sum is {sum}\")\n",
    "\n",
    "number = 1\n",
    "sum = 0\n",
    "\n",
    "while number <= 99:\n",
    "    sum += number\n",
    "    number += 2\n",
    "print(f\"b) The sum is {sum}\")"
   ]
  },
  {
   "cell_type": "markdown",
   "metadata": {},
   "source": [
    "## 3. Guess number game"
   ]
  },
  {
   "cell_type": "markdown",
   "metadata": {},
   "source": [
    "### a)"
   ]
  },
  {
   "cell_type": "code",
   "execution_count": 6,
   "metadata": {},
   "outputs": [
    {
     "name": "stdout",
     "output_type": "stream",
     "text": [
      "The number is higher than your number 55 guess again! Number of guesses: 1\n",
      "The number is lower than your number 75 guess again! Number of guesses: 2\n",
      "The number is lower than your number 65 guess again! Number of guesses: 3\n",
      "The number is lower than your number 60 guess again! Number of guesses: 4\n",
      "Congratulations! You guessed the number 58 in 4 number of guesses.\n"
     ]
    }
   ],
   "source": [
    "import random\n",
    "\n",
    "random_choice = random.randint(1, 100)\n",
    "player_choice = int(input(\"Please enter a number between 1-100: \"))\n",
    "guesses =  0\n",
    "\n",
    "while player_choice != random_choice:\n",
    "  guesses += 1\n",
    "  if player_choice < random_choice:\n",
    "    print(f\"The number is higher than your number {player_choice} guess again! Number of guesses: {guesses}\")\n",
    "    player_choice = int(input(\"Please enter a new number between 1-100: \"))\n",
    "  elif player_choice > random_choice:\n",
    "    print(f\"The number is lower than your number {player_choice} guess again! Number of guesses: {guesses}\")\n",
    "    player_choice = int(input(\"Please enter a new number between 1-100: \"))\n",
    "\n",
    "print(f\"Congratulations! You guessed the number {random_choice} in {guesses} number of guesses.\")"
   ]
  }
 ],
 "metadata": {
  "kernelspec": {
   "display_name": "Python 3.9.13 ('Python-Pontus-Gillenang-IiP32uy3')",
   "language": "python",
   "name": "python3"
  },
  "language_info": {
   "codemirror_mode": {
    "name": "ipython",
    "version": 3
   },
   "file_extension": ".py",
   "mimetype": "text/x-python",
   "name": "python",
   "nbconvert_exporter": "python",
   "pygments_lexer": "ipython3",
   "version": "3.9.13"
  },
  "orig_nbformat": 4,
  "vscode": {
   "interpreter": {
    "hash": "361fa5c9d5d1f198330c27440a011a3c79162bc7aaaaa09c789447120907a740"
   }
  }
 },
 "nbformat": 4,
 "nbformat_minor": 2
}
