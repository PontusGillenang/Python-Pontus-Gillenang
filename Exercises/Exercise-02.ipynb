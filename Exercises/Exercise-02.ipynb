{
 "cells": [
  {
   "cell_type": "markdown",
   "metadata": {},
   "source": [
    "# Exercise-02 While statement exercises\n",
    "[Link to the exercise tasks][exercise_02]\n",
    "\n",
    "[exercise_02]: https://github.com/kokchun/Python-course-AI22/blob/main/Exercises/02-while-statement-exercise.ipynb"
   ]
  },
  {
   "cell_type": "markdown",
   "metadata": {},
   "source": [
    "## 1. Count numbers"
   ]
  },
  {
   "cell_type": "code",
   "execution_count": 1,
   "metadata": {},
   "outputs": [
    {
     "name": "stdout",
     "output_type": "stream",
     "text": [
      "-10\n",
      "-9\n",
      "-8\n",
      "-7\n",
      "-6\n",
      "-5\n",
      "-4\n",
      "-3\n",
      "-2\n",
      "-1\n",
      "0\n",
      "1\n",
      "2\n",
      "3\n",
      "4\n",
      "5\n",
      "6\n",
      "7\n",
      "8\n",
      "9\n",
      "10\n"
     ]
    }
   ],
   "source": [
    "number = -10\n",
    "\n",
    "while number < 11:\n",
    "    print(number)\n",
    "    number += 1"
   ]
  },
  {
   "cell_type": "markdown",
   "metadata": {},
   "source": [
    "## 2. Arithmetic sum"
   ]
  },
  {
   "cell_type": "code",
   "execution_count": 12,
   "metadata": {},
   "outputs": [
    {
     "name": "stdout",
     "output_type": "stream",
     "text": [
      "a) The sum is 5050\n",
      "b) The sum is 2500\n"
     ]
    }
   ],
   "source": [
    "number = 1\n",
    "sum = 0\n",
    "\n",
    "while number <= 100:\n",
    "    sum += number\n",
    "    number += 1\n",
    "print(f\"a) The sum is {sum}\")\n",
    "\n",
    "number = 1\n",
    "sum = 0\n",
    "\n",
    "while number <= 99:\n",
    "    sum += number\n",
    "    number += 2\n",
    "print(f\"b) The sum is {sum}\")"
   ]
  },
  {
   "cell_type": "markdown",
   "metadata": {},
   "source": [
    "## 3. Guess number game"
   ]
  },
  {
   "cell_type": "markdown",
   "metadata": {},
   "source": [
    "### a)"
   ]
  },
  {
   "cell_type": "code",
   "execution_count": 6,
   "metadata": {},
   "outputs": [
    {
     "name": "stdout",
     "output_type": "stream",
     "text": [
      "The number is higher than your number 55 guess again! Number of guesses: 1\n",
      "The number is lower than your number 75 guess again! Number of guesses: 2\n",
      "The number is lower than your number 65 guess again! Number of guesses: 3\n",
      "The number is lower than your number 60 guess again! Number of guesses: 4\n",
      "Congratulations! You guessed the number 58 in 4 number of guesses.\n"
     ]
    }
   ],
   "source": [
    "import random\n",
    "\n",
    "random_choice = random.randint(1, 100)\n",
    "player_choice = int(input(\"Please enter a number between 1-100: \"))\n",
    "guesses =  0\n",
    "\n",
    "while player_choice != random_choice:\n",
    "  guesses += 1\n",
    "  if player_choice < random_choice:\n",
    "    print(f\"The number is higher than your number {player_choice} guess again! Number of guesses: {guesses}\")\n",
    "    player_choice = int(input(\"Please enter a new number between 1-100: \"))\n",
    "  elif player_choice > random_choice:\n",
    "    print(f\"The number is lower than your number {player_choice} guess again! Number of guesses: {guesses}\")\n",
    "    player_choice = int(input(\"Please enter a new number between 1-100: \"))\n",
    "\n",
    "print(f\"Congratulations! You guessed the number {random_choice} in {guesses} number of guesses.\")"
   ]
  },
  {
   "cell_type": "markdown",
   "metadata": {},
   "source": [
    "### b)"
   ]
  },
  {
   "cell_type": "code",
   "execution_count": 467,
   "metadata": {},
   "outputs": [
    {
     "name": "stdout",
     "output_type": "stream",
     "text": [
      "Congratulations! The number 56 was guessed in 3 number of guesses.\n"
     ]
    }
   ],
   "source": [
    "# Searched for help online and found information about binary search algorithm\n",
    "# Link: https://codereview.stackexchange.com/questions/186604/guess-user-number-between-0-and-100-binary-search\n",
    "import random\n",
    "\n",
    "random_choice = random.randint(1, 100)\n",
    "max_value = 100\n",
    "min_value = 1\n",
    "choice = 50\n",
    "guesses =  0\n",
    "\n",
    "while choice != random_choice:\n",
    "  guesses += 1\n",
    "  if choice < random_choice:\n",
    "    # If the choice number is lower than the random number it stores the choice number as the lowest number\n",
    "    min_value = choice\n",
    "    # Here the highest and lowest values are added and divided by 2 aswell as casted as an integer to be the new choice to check against the random number\n",
    "    choice = int((max_value + min_value) / 2)\n",
    "  elif choice > random_choice:\n",
    "    # If the choice number is higher than the random number it stores the choice number as the highest number\n",
    "    max_value = choice\n",
    "    # Here the highest and lowest values are added and divided by 2 aswell as casted as an integer to be the new choice to check against the random number\n",
    "    choice = int((max_value + min_value) / 2)\n",
    "\n",
    "print(f\"Congratulations! The number {random_choice} was guessed in {guesses} number of guesses.\")"
   ]
  },
  {
   "cell_type": "markdown",
   "metadata": {},
   "source": [
    "## 4. Multiplication game"
   ]
  },
  {
   "cell_type": "markdown",
   "metadata": {},
   "source": [
    "### a)"
   ]
  },
  {
   "cell_type": "code",
   "execution_count": 471,
   "metadata": {},
   "outputs": [
    {
     "name": "stdout",
     "output_type": "stream",
     "text": [
      "Correct! 3 times 6 is 18.\n",
      "Wrong, the correct answer for 9 times 8 is 72.\n",
      "Correct! 3 times 6 is 18.\n",
      "Correct! 10 times 2 is 20.\n",
      "Correct! 6 times 5 is 30.\n",
      "Correct! 3 times 8 is 24.\n",
      "Correct! 4 times 10 is 40.\n",
      "Wrong, the correct answer for 7 times 8 is 56.\n",
      "Correct! 2 times 6 is 12.\n",
      "Thanks for playing! Your score was 7.\n"
     ]
    }
   ],
   "source": [
    "import random\n",
    "\n",
    "new_game = input(\"Do you want to play a multiplication game? (yes/no): \")\n",
    "user_score = 0\n",
    "\n",
    "while new_game == \"yes\":\n",
    "    x = random.randint(1, 10)\n",
    "    y = random.randint(1, 10)\n",
    "\n",
    "    user_input = int(input(f\" What is {x} times {y}? \"))\n",
    "\n",
    "    if user_input == (x * y):\n",
    "        user_score += 1\n",
    "        print(f\"Correct! {x} times {y} is {user_input}.\")\n",
    "        new_game = input(\"Do you want to play again? (yes/no): \")\n",
    "    elif user_input != (x * y):\n",
    "        print(f\"Wrong, the correct answer for {x} times {y} is {x * y}.\")\n",
    "        new_game = input(\"Do you want to play again? (yes/no): \")\n",
    "\n",
    "if new_game == \"no\":\n",
    "    print(f\"Thanks for playing! Your score was {user_score}.\")"
   ]
  },
  {
   "cell_type": "markdown",
   "metadata": {},
   "source": [
    "### b)"
   ]
  },
  {
   "cell_type": "code",
   "execution_count": 474,
   "metadata": {},
   "outputs": [
    {
     "name": "stdout",
     "output_type": "stream",
     "text": [
      "Correct! 83 times 30 is 2490.\n",
      "Correct! 22 times 56 is 1232.\n",
      "Correct! 11 times 12 is 132.\n",
      "Thanks for playing! Your score was 3.\n"
     ]
    }
   ],
   "source": [
    "import random\n",
    "\n",
    "new_game = input(\"Do you want to play a multiplication game? (yes/no): \")\n",
    "difficulty = input(\"What level of difficulty do you want? (easy/medium/hard): \")\n",
    "user_score = 0\n",
    "\n",
    "while new_game == \"yes\":\n",
    "    if difficulty == \"easy\":\n",
    "        x = random.randint(1, 10)\n",
    "        y = random.randint(1, 10)\n",
    "    elif difficulty == \"medium\":\n",
    "        x = random.randint(11, 20)\n",
    "        y = random.randint(11, 20)\n",
    "    elif difficulty == \"hard\":\n",
    "        x = random.randint(21, 100)\n",
    "        y = random.randint(21, 100)\n",
    "\n",
    "    user_input = int(input(f\" What is {x} times {y}? \"))\n",
    "\n",
    "    if user_input == (x * y):\n",
    "        user_score += 1\n",
    "        print(f\"Correct! {x} times {y} is {user_input}.\")\n",
    "        new_game = input(\"Do you want to play again? (yes/no): \")\n",
    "        difficulty = input(\"What level of difficulty do you want? (easy/medium/hard): \")\n",
    "    elif user_input != (x * y):\n",
    "        print(f\"Wrong, the correct answer for {x} times {y} is {x * y}.\")\n",
    "        new_game = input(\"Do you want to play again? (yes/no): \")\n",
    "        difficulty = input(\"What level of difficulty do you want? (easy/medium/hard): \")\n",
    "\n",
    "if new_game == \"no\":\n",
    "    print(f\"Thanks for playing! Your score was {user_score}.\")"
   ]
  },
  {
   "cell_type": "markdown",
   "metadata": {},
   "source": [
    "### c)"
   ]
  },
  {
   "cell_type": "code",
   "execution_count": 477,
   "metadata": {},
   "outputs": [
    {
     "name": "stdout",
     "output_type": "stream",
     "text": [
      "Correct! 10 times 1 is 10.\n",
      "Correct! 5 times 5 is 25.\n",
      "Correct! 4 times 9 is 36.\n",
      "Wrong, the correct answer for 6 times 9 is 54.\n",
      "Correct! 6 times 4 is 24.\n",
      "Thanks for playing! Your score was 4 out of 5.\n"
     ]
    }
   ],
   "source": [
    "import random\n",
    "\n",
    "# The user now choses which multiplication table between 1-10\n",
    "# and the user is scored by the number of correct answers and attempts\n",
    "new_game = input(\"Do you want to play a multiplication game? (yes/no): \")\n",
    "multiplication_table = int(input(\"Which multiplication table do you want? (1-10): \"))\n",
    "user_score = 0\n",
    "user_attempts = 0\n",
    "\n",
    "while new_game == \"yes\":\n",
    "    if multiplication_table < 11:\n",
    "        x = multiplication_table\n",
    "        y = random.randint(1, 10)\n",
    "    else:\n",
    "        x = random.randint(1, 10)\n",
    "        y = random.randint(1, 10)\n",
    "\n",
    "    user_input = int(input(f\" What is {x} times {y}? \"))\n",
    "\n",
    "    if user_input == (x * y):\n",
    "        user_score += 1\n",
    "        user_attempts += 1\n",
    "        print(f\"Correct! {x} times {y} is {user_input}.\")\n",
    "        new_game = input(\"Do you want to play again? (yes/no): \")\n",
    "        multiplication_table = int(input(\"Which multiplication table do you want? (1-10): \"))\n",
    "    elif user_input != (x * y):\n",
    "        user_attempts += 1\n",
    "        print(f\"Wrong, the correct answer for {x} times {y} is {x * y}.\")\n",
    "        new_game = input(\"Do you want to play again? (yes/no): \")\n",
    "        multiplication_table = int(input(\"Which multiplication table do you want? (1-10): \"))\n",
    "\n",
    "if new_game == \"no\" or multiplication_table == ValueError:\n",
    "    print(f\"Thanks for playing! Your score was {user_score} out of {user_attempts}.\")"
   ]
  },
  {
   "cell_type": "markdown",
   "metadata": {},
   "source": [
    "## 5. Check convergence"
   ]
  },
  {
   "cell_type": "markdown",
   "metadata": {},
   "source": [
    "### a)"
   ]
  },
  {
   "cell_type": "code",
   "execution_count": 6,
   "metadata": {},
   "outputs": [
    {
     "name": "stdout",
     "output_type": "stream",
     "text": [
      "The sum is 2.0 after 100 iterations.\n"
     ]
    }
   ],
   "source": [
    "start_sum = 1\n",
    "total_sum = 0\n",
    "n = 0\n",
    "max_iteration = 100\n",
    "\n",
    "while n != max_iteration:\n",
    "   start_sum = 1/(2**n)\n",
    "   total_sum += start_sum\n",
    "   n += 1\n",
    "\n",
    "print(f\"The sum is {total_sum} after {n} iterations.\") # After 54 iterations and above the sum remains at 2."
   ]
  },
  {
   "cell_type": "markdown",
   "metadata": {},
   "source": [
    "### b)"
   ]
  },
  {
   "cell_type": "code",
   "execution_count": 12,
   "metadata": {},
   "outputs": [
    {
     "name": "stdout",
     "output_type": "stream",
     "text": [
      "The sum is 0.7853731633975086 after 10000 iterations. "
     ]
    }
   ],
   "source": [
    "start_sum = -1\n",
    "total_sum = 0\n",
    "n = 0\n",
    "max_iteration = 10000\n",
    "\n",
    "while n != max_iteration:\n",
    "   start_sum = ((-1)**n)/(2*n+1)\n",
    "   total_sum += start_sum\n",
    "   n += 1\n",
    "\n",
    "print(f\"The sum is {total_sum} after {n} iterations\", end=\". \") # The closest sum value it comes to is 0.7853 rounded"
   ]
  }
 ],
 "metadata": {
  "kernelspec": {
   "display_name": "Python 3.9.13 ('Python-Pontus-Gillenang-IiP32uy3')",
   "language": "python",
   "name": "python3"
  },
  "language_info": {
   "codemirror_mode": {
    "name": "ipython",
    "version": 3
   },
   "file_extension": ".py",
   "mimetype": "text/x-python",
   "name": "python",
   "nbconvert_exporter": "python",
   "pygments_lexer": "ipython3",
   "version": "3.9.13"
  },
  "orig_nbformat": 4,
  "vscode": {
   "interpreter": {
    "hash": "361fa5c9d5d1f198330c27440a011a3c79162bc7aaaaa09c789447120907a740"
   }
  }
 },
 "nbformat": 4,
 "nbformat_minor": 2
}
