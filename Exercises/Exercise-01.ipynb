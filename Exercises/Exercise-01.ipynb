{
 "cells": [
  {
   "cell_type": "markdown",
   "metadata": {},
   "source": [
    "# Exercise-01 If-statements\n",
    "[Link to the exercise tasks][exercise_01]\n",
    "\n",
    "[exercise_01]: https://github.com/kokchun/Python-course-AI22/blob/main/Exercises/01-if-statement-exercise.ipynb"
   ]
  },
  {
   "cell_type": "markdown",
   "metadata": {},
   "source": [
    "## 1. Check sign"
   ]
  },
  {
   "cell_type": "code",
   "execution_count": 8,
   "metadata": {},
   "outputs": [
    {
     "name": "stdout",
     "output_type": "stream",
     "text": [
      "Your number 0 is zero\n"
     ]
    }
   ],
   "source": [
    "user_input = int(input(\"Write a number: \"))\n",
    "\n",
    "if user_input < 0:\n",
    "    print(f\"Your number {user_input} is negative\")\n",
    "elif user_input > 0:\n",
    "    print(f\"Your number {user_input} is positive\")\n",
    "elif user_input == 0:\n",
    "    print(f\"Your number {user_input} is zero\")"
   ]
  },
  {
   "cell_type": "markdown",
   "metadata": {},
   "source": [
    "## 2. Smallest"
   ]
  },
  {
   "cell_type": "code",
   "execution_count": 9,
   "metadata": {},
   "outputs": [
    {
     "name": "stdout",
     "output_type": "stream",
     "text": [
      "Your second number 4 is smaller than your first number 5.\n"
     ]
    }
   ],
   "source": [
    "first_user_input = int(input(\"Write your first number: \"))\n",
    "second_user_input = int(input(\"Write your second number: \"))\n",
    "\n",
    "if first_user_input < second_user_input:\n",
    "    print(f\"Your first number {first_user_input} is smaller than your second number {second_user_input}.\")\n",
    "elif first_user_input > second_user_input:\n",
    "    print(f\"Your second number {second_user_input} is smaller than your first number {first_user_input}.\")"
   ]
  },
  {
   "cell_type": "markdown",
   "metadata": {},
   "source": [
    "## 3. Right angle"
   ]
  },
  {
   "cell_type": "code",
   "execution_count": 6,
   "metadata": {},
   "outputs": [
    {
     "name": "stdout",
     "output_type": "stream",
     "text": [
      "You have entered the correct values for a right angle!\n"
     ]
    }
   ],
   "source": [
    "first_angle = int(input(\"Please enter a value for the first angle: \"))\n",
    "second_angle = int(input(\"Please enter a value for the second angle: \"))\n",
    "third_angle = int(input(\"Please enter a value for the third angle: \"))\n",
    "\n",
    "if first_angle + second_angle + third_angle == 180 and (first_angle == 90 or second_angle == 90 or third_angle == 90):\n",
    "    print(\"You have entered the correct values for a right angle!\")\n",
    "else:\n",
    "    print(\"Not a right angle triangle. Please enter valid values for a right angle.\")"
   ]
  }
 ],
 "metadata": {
  "kernelspec": {
   "display_name": "Python 3.9.13 ('Python-Pontus-Gillenang-IiP32uy3')",
   "language": "python",
   "name": "python3"
  },
  "language_info": {
   "codemirror_mode": {
    "name": "ipython",
    "version": 3
   },
   "file_extension": ".py",
   "mimetype": "text/x-python",
   "name": "python",
   "nbconvert_exporter": "python",
   "pygments_lexer": "ipython3",
   "version": "3.9.13"
  },
  "orig_nbformat": 4,
  "vscode": {
   "interpreter": {
    "hash": "361fa5c9d5d1f198330c27440a011a3c79162bc7aaaaa09c789447120907a740"
   }
  }
 },
 "nbformat": 4,
 "nbformat_minor": 2
}
