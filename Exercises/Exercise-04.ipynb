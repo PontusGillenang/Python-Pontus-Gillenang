{
 "cells": [
  {
   "cell_type": "markdown",
   "metadata": {},
   "source": [
    "# Exercise-04 List exercises\n",
    "[Link to the exercise tasks][exercise_04]\n",
    "\n",
    "[exercise_04]: https://github.com/kokchun/Python-course-AI22/blob/main/Exercises/04-list-exercise.ipynb"
   ]
  },
  {
   "cell_type": "markdown",
   "metadata": {},
   "source": [
    "## 1. Dice rolls"
   ]
  },
  {
   "cell_type": "code",
   "execution_count": 1,
   "metadata": {},
   "outputs": [
    {
     "name": "stdout",
     "output_type": "stream",
     "text": [
      "a) [1, 2, 2, 3, 4, 4, 4, 5, 5, 6]\n",
      "b) [6, 5, 5, 4, 4, 4, 3, 2, 2, 1]\n",
      "c) Maximum: 6 Minimum: 1\n"
     ]
    }
   ],
   "source": [
    "import random as rnd\n",
    "\n",
    "dices = [rnd.randint(1,6) for _ in range(10)] # Loop for 10 random numbers between 1 and 6 (list comprehension)\n",
    "\n",
    "dices.sort() # Sort ascending\n",
    "\n",
    "print(f\"a) {dices}\")\n",
    "\n",
    "dices.sort(reverse = True) # Sort descending\n",
    "\n",
    "print(f\"b) {dices}\")\n",
    "\n",
    "print(f\"c) Maximum: {max(dices)} Minimum: {min(dices)}\")\n",
    "# https://www.w3schools.com/python/python_ref_functions.asp\n",
    "# Or Maximum: {dices[0]} Minimum: {dices[9]}"
   ]
  },
  {
   "cell_type": "markdown",
   "metadata": {},
   "source": [
    "## 2. Food menu"
   ]
  },
  {
   "cell_type": "code",
   "execution_count": 6,
   "metadata": {},
   "outputs": [
    {
     "name": "stdout",
     "output_type": "stream",
     "text": [
      "a) ['Vegetarisk lasagne', 'Spaghetti', 'Fisk', 'Grönsakssoppa', 'Pannkakor']\n",
      "b) ['Måndag', 'Tisdag', 'Onsdag', 'Torsdag', 'Fredag']\n",
      "c)\n",
      "Meny\n",
      "Måndag: Vegetarisk lasagne \n",
      "Tisdag: Spaghetti \n",
      "Onsdag: Fisk \n",
      "Torsdag: Grönsakssoppa \n",
      "Fredag: Pannkakor \n",
      "\n"
     ]
    }
   ],
   "source": [
    "food_items = [\"Vegetarisk lasagne\", \"Spaghetti\", \"Fisk\", \"Grönsakssoppa\", \"Pannkakor\"]\n",
    "\n",
    "print(f\"a) {food_items}\")\n",
    "\n",
    "week_days = [\"Måndag\", \"Tisdag\", \"Onsdag\", \"Torsdag\", \"Fredag\"]\n",
    "\n",
    "print(f\"b) {week_days}\")\n",
    "\n",
    "menu = \"c)\\nMeny\\n\"\n",
    "\n",
    "for week_day, food_item in zip(week_days, food_items):\n",
    "    menu += f\"{week_day}: {food_item} \\n\"\n",
    "\n",
    "print(menu)"
   ]
  }
 ],
 "metadata": {
  "kernelspec": {
   "display_name": "Python 3.9.13 ('Python-Pontus-Gillenang-IiP32uy3')",
   "language": "python",
   "name": "python3"
  },
  "language_info": {
   "codemirror_mode": {
    "name": "ipython",
    "version": 3
   },
   "file_extension": ".py",
   "mimetype": "text/x-python",
   "name": "python",
   "nbconvert_exporter": "python",
   "pygments_lexer": "ipython3",
   "version": "3.9.13"
  },
  "orig_nbformat": 4,
  "vscode": {
   "interpreter": {
    "hash": "361fa5c9d5d1f198330c27440a011a3c79162bc7aaaaa09c789447120907a740"
   }
  }
 },
 "nbformat": 4,
 "nbformat_minor": 2
}
