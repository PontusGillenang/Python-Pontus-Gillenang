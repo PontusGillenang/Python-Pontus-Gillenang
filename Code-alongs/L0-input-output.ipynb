{
 "cells": [
  {
   "cell_type": "markdown",
   "metadata": {},
   "source": [
    "# Code along - input-output"
   ]
  },
  {
   "cell_type": "code",
   "execution_count": 13,
   "metadata": {},
   "outputs": [
    {
     "name": "stdout",
     "output_type": "stream",
     "text": [
      "Hej Pontus, du är 31.8 gammal!\n",
      "20\n"
     ]
    }
   ],
   "source": [
    "# Variable - data type string\n",
    "# Create a variable (\"box\") and assigns a value\n",
    "name = \"Pontus\"\n",
    "\n",
    "# Variable - data type float\n",
    "age = 31.8\n",
    "\n",
    "# This is an f-string (formatted string)\n",
    "print(f\"Hej {name}, du är {age} gammal!\")\n",
    "\n",
    "# Reassigns\n",
    "# Note: Bad practice\n",
    "name = 20\n",
    "\n",
    "print(name)"
   ]
  },
  {
   "cell_type": "markdown",
   "metadata": {},
   "source": [
    "## Inputs from user"
   ]
  },
  {
   "cell_type": "code",
   "execution_count": 14,
   "metadata": {},
   "outputs": [
    {
     "name": "stdout",
     "output_type": "stream",
     "text": [
      "Hello John, you are 21 years old!\n"
     ]
    }
   ],
   "source": [
    "name = input(\"What is your name?\")\n",
    "age = input(\"What is your age?\")\n",
    "\n",
    "print(f\"Hello {name}, you are {age} years old!\")"
   ]
  },
  {
   "cell_type": "markdown",
   "metadata": {},
   "source": [
    "## Calculations"
   ]
  },
  {
   "cell_type": "code",
   "execution_count": 15,
   "metadata": {},
   "outputs": [
    {
     "name": "stdout",
     "output_type": "stream",
     "text": [
      "Your force is 608.84 N.\n"
     ]
    }
   ],
   "source": [
    "gravity = 9.82\n",
    "mass = 62\n",
    "\n",
    "force = mass * gravity\n",
    "\n",
    "print(f\"Your force is {force} N.\")"
   ]
  },
  {
   "cell_type": "code",
   "execution_count": 16,
   "metadata": {},
   "outputs": [
    {
     "name": "stdout",
     "output_type": "stream",
     "text": [
      "force=834.7N\n"
     ]
    }
   ],
   "source": [
    "mass = float(input(\"Enter your mass (kg): \")) # This is a string\n",
    "\n",
    "# Can't multiply string with a float\n",
    "force = mass * gravity\n",
    "\n",
    "# :.1f -> rounds to 1 decimal\n",
    "# force= -> prints the variable name and value\n",
    "print(f\"{force=:.1f}N\")"
   ]
  }
 ],
 "metadata": {
  "kernelspec": {
   "display_name": "Python 3.9.13 ('Python-Pontus-Gillenang-IiP32uy3')",
   "language": "python",
   "name": "python3"
  },
  "language_info": {
   "codemirror_mode": {
    "name": "ipython",
    "version": 3
   },
   "file_extension": ".py",
   "mimetype": "text/x-python",
   "name": "python",
   "nbconvert_exporter": "python",
   "pygments_lexer": "ipython3",
   "version": "3.9.13"
  },
  "orig_nbformat": 4,
  "vscode": {
   "interpreter": {
    "hash": "361fa5c9d5d1f198330c27440a011a3c79162bc7aaaaa09c789447120907a740"
   }
  }
 },
 "nbformat": 4,
 "nbformat_minor": 2
}
