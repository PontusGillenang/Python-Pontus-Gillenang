{
 "cells": [
  {
   "cell_type": "markdown",
   "metadata": {},
   "source": [
    "# Dictionary\n",
    "\n",
    "- Datastructure that stores data in key:value pairs"
   ]
  },
  {
   "cell_type": "code",
   "execution_count": 7,
   "metadata": {},
   "outputs": [
    {
     "name": "stdout",
     "output_type": "stream",
     "text": [
      "person dictionary {'name': 'Kokchun', 'age': 31, 'work': 'AI teacher', 'interests': ['math', 'yoga', 'gardening', 'programming', 'walking'], 'phone': 112}\n",
      "person work: AI teacher\n",
      "person age: 31\n",
      "person work: ['math', 'yoga'] \n",
      "\n",
      "Kokchun likes math\n",
      "Kokchun likes yoga\n",
      "Kokchun likes gardening\n",
      "Kokchun likes programming\n",
      "Kokchun likes walking\n"
     ]
    }
   ],
   "source": [
    "# Create a dictionary with dict keyword\n",
    "person = dict(\n",
    "    name=\"Kokchun\",\n",
    "    age=31,\n",
    "    work=\"AI teacher\",\n",
    "    interests=[\"math\", \"yoga\", \"gardening\", \"programming\", \"walking\"],\n",
    "    phone=112,\n",
    ")\n",
    "\n",
    "print(f\"person dictionary {person}\")\n",
    "print(f\"person work: {person['work']}\")\n",
    "print(f\"person age: {person['age']}\")\n",
    "\n",
    "print(f\"person work: {person['interests'][:2]} \\n\")\n",
    "\n",
    "for interest in person[\"interests\"]:\n",
    "    print(f\"Kokchun likes {interest}\")"
   ]
  },
  {
   "cell_type": "code",
   "execution_count": 12,
   "metadata": {},
   "outputs": [
    {
     "name": "stdout",
     "output_type": "stream",
     "text": [
      "{'assign': 'assigns a value to a variable', 'dictionary': 'datastructure to store data in key-value pairs', 'method': 'a function bound to an object'}\n",
      "Vi ska lära oss de här glosorna \n",
      "\n",
      "assign  -  assigns a value to a variable\n",
      "dictionary  -  datastructure to store data in key-value pairs\n",
      "method  -  a function bound to an object\n"
     ]
    }
   ],
   "source": [
    "# Create dictionary with curly brackets {}\n",
    "words = {\n",
    "    \"assign\": \"assigns a value to a variable\",\n",
    "    \"dictionary\": \"datastructure to store data in key-value pairs\",\n",
    "    \"method\": \"a function bound to an object\",\n",
    "}\n",
    "\n",
    "print(words)\n",
    "print(\"Vi ska lära oss de här glosorna \\n\")\n",
    "\n",
    "for key in words:\n",
    "    print(key,\" - \", words[key])"
   ]
  },
  {
   "cell_type": "code",
   "execution_count": 14,
   "metadata": {},
   "outputs": [
    {
     "name": "stdout",
     "output_type": "stream",
     "text": [
      "assign               assigns a value to a variable\n",
      "dictionary           datastructure to store data in key-value pairs\n",
      "method               a function bound to an object\n"
     ]
    }
   ],
   "source": [
    "for key, value in words.items():\n",
    "    print(f\"{key:<20} {value}\")"
   ]
  }
 ],
 "metadata": {
  "kernelspec": {
   "display_name": "Python 3.9.13 ('Python-Pontus-Gillenang-IiP32uy3')",
   "language": "python",
   "name": "python3"
  },
  "language_info": {
   "codemirror_mode": {
    "name": "ipython",
    "version": 3
   },
   "file_extension": ".py",
   "mimetype": "text/x-python",
   "name": "python",
   "nbconvert_exporter": "python",
   "pygments_lexer": "ipython3",
   "version": "3.9.13"
  },
  "orig_nbformat": 4,
  "vscode": {
   "interpreter": {
    "hash": "361fa5c9d5d1f198330c27440a011a3c79162bc7aaaaa09c789447120907a740"
   }
  }
 },
 "nbformat": 4,
 "nbformat_minor": 2
}
