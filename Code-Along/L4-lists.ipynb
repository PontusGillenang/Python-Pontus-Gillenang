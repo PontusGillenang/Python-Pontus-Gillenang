{
 "cells": [
  {
   "cell_type": "markdown",
   "metadata": {},
   "source": [
    "# Lists"
   ]
  },
  {
   "cell_type": "markdown",
   "metadata": {},
   "source": [
    "## Access elements"
   ]
  },
  {
   "cell_type": "code",
   "execution_count": 1,
   "metadata": {},
   "outputs": [
    {
     "name": "stdout",
     "output_type": "stream",
     "text": [
      "['pizza', 'lasagne', 'spaghetti', 'pancakes', 'banana', 'grapes']\n",
      "nice_foods[0]='pizza'\n",
      "nice_foods[-1]='grapes'\n",
      "nice_foods[5]='grapes'\n",
      "nice_foods[-3]='pancakes'\n"
     ]
    }
   ],
   "source": [
    "# Creates a new list with some elements\n",
    "nice_foods = [\"pizza\", \"lasagne\", \"spaghetti\", \"pancakes\", \"banana\", \"grapes\"]\n",
    "\n",
    "print(nice_foods)\n",
    "\n",
    "# Gets first element\n",
    "print(f\"{nice_foods[0]=}\")\n",
    "# Gets last element\n",
    "print(f\"{nice_foods[-1]=}\")\n",
    "print(f\"{nice_foods[5]=}\")\n",
    "\n",
    "# Element in index 3\n",
    "print(f\"{nice_foods[-3]=}\")"
   ]
  },
  {
   "cell_type": "markdown",
   "metadata": {},
   "source": [
    "## Slicing"
   ]
  },
  {
   "cell_type": "code",
   "execution_count": 2,
   "metadata": {},
   "outputs": [
    {
     "name": "stdout",
     "output_type": "stream",
     "text": [
      "['pizza', 'lasagne', 'spaghetti', 'pancakes', 'banana', 'grapes']\n",
      "nice_foods[1:4]=['lasagne', 'spaghetti', 'pancakes']\n",
      "nice_foods[:-1]=['pizza', 'lasagne', 'spaghetti', 'pancakes', 'banana']\n",
      "nice_foods[:4]=['pizza', 'lasagne', 'spaghetti', 'pancakes']\n",
      "nice_foods[::-1]=['grapes', 'banana', 'pancakes', 'spaghetti', 'lasagne', 'pizza']\n"
     ]
    }
   ],
   "source": [
    "print(nice_foods)\n",
    "print(f\"{nice_foods[1:4]=}\")\n",
    "print(f\"{nice_foods[:-1]=}\") # 0 to -2\n",
    "\n",
    "print(f\"{nice_foods[:4]=}\") # 0,1,2,3\n",
    "\n",
    "print(f\"{nice_foods[::-1]=}\") # Reverses the list"
   ]
  },
  {
   "cell_type": "code",
   "execution_count": 3,
   "metadata": {},
   "outputs": [
    {
     "name": "stdout",
     "output_type": "stream",
     "text": [
      "['banana', 'grapes', 'lasagne', 'pancakes', 'pizza', 'spaghetti']\n",
      "[-5, 1, 2, 5]\n"
     ]
    }
   ],
   "source": [
    "# Sorting by first letter\n",
    "nice_foods.sort()\n",
    "print(nice_foods)\n",
    "\n",
    "numbers = [2,1,5,-5]\n",
    "numbers.sort()\n",
    "\n",
    "# Sorting ascending\n",
    "print(numbers)"
   ]
  },
  {
   "cell_type": "markdown",
   "metadata": {},
   "source": [
    "## for-loop with enumerate"
   ]
  },
  {
   "cell_type": "code",
   "execution_count": 4,
   "metadata": {},
   "outputs": [
    {
     "name": "stdout",
     "output_type": "stream",
     "text": [
      "['banana', 'grapes', 'lasagne', 'pancakes', 'pizza', 'spaghetti']\n",
      "0. banana\n",
      "1. grapes\n",
      "2. lasagne\n",
      "3. pancakes\n",
      "4. pizza\n",
      "5. spaghetti\n"
     ]
    }
   ],
   "source": [
    "print(nice_foods)\n",
    "\n",
    "# Enumerate -> (index, element) in list\n",
    "# for i, food in enumerate(nice_foods, 1):, starts the list with number 1\n",
    "for i, food in enumerate(nice_foods):\n",
    "    print(f\"{i}. {food}\")\n",
    "\n",
    "\"\"\"\n",
    "for i in range(len(nice_foods)):\n",
    "    print(f\"{i}. {nice_foods[i]}\")\n",
    "\"\"\";"
   ]
  },
  {
   "cell_type": "markdown",
   "metadata": {},
   "source": [
    "## List comprehension"
   ]
  },
  {
   "cell_type": "code",
   "execution_count": 5,
   "metadata": {},
   "outputs": [
    {
     "data": {
      "text/plain": [
       "[0, 1, 8, 27, 64, 125, 216, 343, 512, 729]"
      ]
     },
     "execution_count": 5,
     "metadata": {},
     "output_type": "execute_result"
    }
   ],
   "source": [
    "# Cubes \"normal way\" using append\n",
    "cubes = []\n",
    "\n",
    "for i in range(10):\n",
    "    cubes.append(i**3) # i^3\n",
    "\n",
    "cubes"
   ]
  },
  {
   "cell_type": "code",
   "execution_count": 6,
   "metadata": {},
   "outputs": [
    {
     "data": {
      "text/plain": [
       "[0, 1, 8, 27, 64, 125, 216, 343, 512, 729]"
      ]
     },
     "execution_count": 6,
     "metadata": {},
     "output_type": "execute_result"
    }
   ],
   "source": [
    "# List comprehension\n",
    "cubes = [i**3 for i in range(10)]\n",
    "cubes"
   ]
  },
  {
   "cell_type": "code",
   "execution_count": 7,
   "metadata": {},
   "outputs": [
    {
     "data": {
      "text/plain": [
       "[1, 27, 125, 343, 729]"
      ]
     },
     "execution_count": 7,
     "metadata": {},
     "output_type": "execute_result"
    }
   ],
   "source": [
    "# Cubes every odd number\n",
    "cubes_odd = [i**3 for i in range(10) if i%2 != 0]\n",
    "cubes_odd"
   ]
  },
  {
   "cell_type": "code",
   "execution_count": 8,
   "metadata": {},
   "outputs": [
    {
     "data": {
      "text/plain": [
       "[6, 2, 5, 5, 4, 3, 4, 2, 5, 1]"
      ]
     },
     "execution_count": 8,
     "metadata": {},
     "output_type": "execute_result"
    }
   ],
   "source": [
    "import random as rnd\n",
    "\n",
    "# Dice list\n",
    "dices = [rnd.randint(1,6) for _ in range(10)] # Convention to use _ when not using the loop variable\n",
    "dices"
   ]
  },
  {
   "cell_type": "markdown",
   "metadata": {},
   "source": [
    "## Lists in list"
   ]
  },
  {
   "cell_type": "code",
   "execution_count": 9,
   "metadata": {},
   "outputs": [
    {
     "name": "stdout",
     "output_type": "stream",
     "text": [
      "grades[1]=['B', 20]\n",
      "grades[1][0]='B'\n",
      "grades[1][1]=20\n"
     ]
    }
   ],
   "source": [
    "grades = [[\"A\", 25], [\"B\", 20], [\"F\", 5]]\n",
    "\n",
    "print(f\"{grades[1]=}\")\n",
    "print(f\"{grades[1][0]=}\")\n",
    "print(f\"{grades[1][1]=}\")"
   ]
  }
 ],
 "metadata": {
  "kernelspec": {
   "display_name": "Python 3.9.13 ('Python-Pontus-Gillenang-IiP32uy3')",
   "language": "python",
   "name": "python3"
  },
  "language_info": {
   "codemirror_mode": {
    "name": "ipython",
    "version": 3
   },
   "file_extension": ".py",
   "mimetype": "text/x-python",
   "name": "python",
   "nbconvert_exporter": "python",
   "pygments_lexer": "ipython3",
   "version": "3.9.13"
  },
  "orig_nbformat": 4,
  "vscode": {
   "interpreter": {
    "hash": "361fa5c9d5d1f198330c27440a011a3c79162bc7aaaaa09c789447120907a740"
   }
  }
 },
 "nbformat": 4,
 "nbformat_minor": 2
}
