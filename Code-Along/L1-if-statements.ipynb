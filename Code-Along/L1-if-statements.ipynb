{
 "cells": [
  {
   "cell_type": "markdown",
   "metadata": {},
   "source": [
    "# if-statements\n",
    "### if-else"
   ]
  },
  {
   "cell_type": "code",
   "execution_count": 3,
   "metadata": {},
   "outputs": [
    {
     "name": "stdout",
     "output_type": "stream",
     "text": [
      "Du är 16 år gammal, åldersgränsen är 18.\n",
      "Du får inte gå in i puben!\n"
     ]
    }
   ],
   "source": [
    "age = int(input(\"Hur gammal är du?\"))\n",
    "\n",
    "if age < 18:\n",
    "    print(f\"Du är {age} år gammal, åldersgränsen är 18.\")\n",
    "    print(\"Du får inte gå in i puben!\")\n",
    "else:\n",
    "    print(\"Välkommen in!\")"
   ]
  },
  {
   "cell_type": "code",
   "execution_count": 7,
   "metadata": {},
   "outputs": [
    {
     "name": "stdout",
     "output_type": "stream",
     "text": [
      "Du får åka Balder!\n"
     ]
    }
   ],
   "source": [
    "age = 15\n",
    "height = 210\n",
    "\n",
    "# Other languages\n",
    "# && for and\n",
    "# || for or\n",
    "if age > 10 and 130 < height <= 210:\n",
    "    print(\"Du får åka Balder!\")\n",
    "else:\n",
    "    print(\"Du får inte åka Balder.\")"
   ]
  },
  {
   "cell_type": "markdown",
   "metadata": {},
   "source": [
    "### Modulo operator %\n",
    "\n",
    "Gives the rest after an integer division\n",
    "\n",
    "Ex\n",
    "\n",
    "- 5 % 3 = 2\n",
    "- 22 % 9 = 4"
   ]
  },
  {
   "cell_type": "code",
   "execution_count": 9,
   "metadata": {},
   "outputs": [
    {
     "name": "stdout",
     "output_type": "stream",
     "text": [
      "Jämnt tal\n"
     ]
    }
   ],
   "source": [
    "number = 42\n",
    "\n",
    "# 2 equal signs => checks if left is equal to right\n",
    "if number % 2 == 0:\n",
    "    print(\"Jämnt tal\")"
   ]
  },
  {
   "cell_type": "code",
   "execution_count": 11,
   "metadata": {},
   "outputs": [
    {
     "name": "stdout",
     "output_type": "stream",
     "text": [
      "3 == 4: False\n",
      "3 == 3: True\n",
      "3 >= 3: True\n",
      "3 != 3: False\n"
     ]
    }
   ],
   "source": [
    "print(f\"3 == 4: {3 == 4}\")\n",
    "print(f\"3 == 3: {3 == 3}\") # Equal operator\n",
    "print(f\"3 >= 3: {3 >= 3}\") # Larger than or equal operator\n",
    "print(f\"3 != 3: {3 != 3}\") # Not equal operator"
   ]
  },
  {
   "cell_type": "markdown",
   "metadata": {},
   "source": [
    "## if - elif - else\n",
    "```py\n",
    "if condition:\n",
    "    statement_1\n",
    "    ...\n",
    "    statement_n\n",
    "elif condition:\n",
    "    statement_1\n",
    "    ...\n",
    "    statement_m\n",
    "...\n",
    "elif condition:\n",
    "    ...\n",
    "else:\n",
    "    statements\n",
    "\n",
    "program continues ...\n",
    "\n",
    "```"
   ]
  },
  {
   "cell_type": "code",
   "execution_count": 7,
   "metadata": {},
   "outputs": [
    {
     "name": "stdout",
     "output_type": "stream",
     "text": [
      "weight = '34'\n",
      "weight = 34.0\n",
      "Give patient 750mg\n"
     ]
    }
   ],
   "source": [
    "# Weight is a string here\n",
    "weight = input(\"Enter patient weight (kg): \")\n",
    "print(f\"{weight = }\")\n",
    "\n",
    "# Now we convert it to a float\n",
    "weight = float(weight)\n",
    "print(f\"{weight = }\")\n",
    "\n",
    "if weight < 20:\n",
    "    print(\"Give patient 500mg\")\n",
    "elif weight < 40:\n",
    "    print(\"Give patient 750mg\")\n",
    "else:\n",
    "    print(\"Give patient 1000mg\")"
   ]
  },
  {
   "cell_type": "markdown",
   "metadata": {},
   "source": [
    "## Nested if-statements"
   ]
  },
  {
   "cell_type": "code",
   "execution_count": 10,
   "metadata": {},
   "outputs": [
    {
     "name": "stdout",
     "output_type": "stream",
     "text": [
      "Not divisible by 5\n"
     ]
    }
   ],
   "source": [
    "number = 11\n",
    "\n",
    "if number % 5 == 0:\n",
    "    print(f\"{number} divisible by 5\")\n",
    "    if number % 2 == 0:\n",
    "        print(\"Even number\")\n",
    "    else:\n",
    "        print(\"Odd number\")\n",
    "else:\n",
    "    print(\"Not divisible by 5\")"
   ]
  }
 ],
 "metadata": {
  "kernelspec": {
   "display_name": "Python 3.9.13 ('Python-Pontus-Gillenang-IiP32uy3')",
   "language": "python",
   "name": "python3"
  },
  "language_info": {
   "codemirror_mode": {
    "name": "ipython",
    "version": 3
   },
   "file_extension": ".py",
   "mimetype": "text/x-python",
   "name": "python",
   "nbconvert_exporter": "python",
   "pygments_lexer": "ipython3",
   "version": "3.9.13"
  },
  "orig_nbformat": 4,
  "vscode": {
   "interpreter": {
    "hash": "361fa5c9d5d1f198330c27440a011a3c79162bc7aaaaa09c789447120907a740"
   }
  }
 },
 "nbformat": 4,
 "nbformat_minor": 2
}
