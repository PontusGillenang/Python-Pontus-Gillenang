{
 "cells": [
  {
   "cell_type": "markdown",
   "metadata": {},
   "source": [
    "# if-statements\n",
    "### if-else"
   ]
  },
  {
   "cell_type": "code",
   "execution_count": 3,
   "metadata": {},
   "outputs": [
    {
     "name": "stdout",
     "output_type": "stream",
     "text": [
      "Du är 16 år gammal, åldersgränsen är 18.\n",
      "Du får inte gå in i puben!\n"
     ]
    }
   ],
   "source": [
    "age = int(input(\"Hur gammal är du?\"))\n",
    "\n",
    "if age < 18:\n",
    "    print(f\"Du är {age} år gammal, åldersgränsen är 18.\")\n",
    "    print(\"Du får inte gå in i puben!\")\n",
    "else:\n",
    "    print(\"Välkommen in!\")"
   ]
  },
  {
   "cell_type": "code",
   "execution_count": 7,
   "metadata": {},
   "outputs": [
    {
     "name": "stdout",
     "output_type": "stream",
     "text": [
      "Du får åka Balder!\n"
     ]
    }
   ],
   "source": [
    "age = 15\n",
    "height = 210\n",
    "\n",
    "if age > 10 and 130 < height <= 210:\n",
    "    print(\"Du får åka Balder!\")\n",
    "else:\n",
    "    print(\"Du får inte åka Balder.\")"
   ]
  },
  {
   "cell_type": "markdown",
   "metadata": {},
   "source": [
    "### Modulo operator %"
   ]
  },
  {
   "cell_type": "code",
   "execution_count": 9,
   "metadata": {},
   "outputs": [
    {
     "name": "stdout",
     "output_type": "stream",
     "text": [
      "Jämnt tal\n"
     ]
    }
   ],
   "source": [
    "number = 42\n",
    "\n",
    "# 2 equal signs => checks if left is equal to right\n",
    "if number % 2 == 0:\n",
    "    print(\"Jämnt tal\")"
   ]
  },
  {
   "cell_type": "code",
   "execution_count": 11,
   "metadata": {},
   "outputs": [
    {
     "name": "stdout",
     "output_type": "stream",
     "text": [
      "3 == 4: False\n",
      "3 == 3: True\n",
      "3 >= 3: True\n",
      "3 != 3: False\n"
     ]
    }
   ],
   "source": [
    "print(f\"3 == 4: {3 == 4}\")\n",
    "print(f\"3 == 3: {3 == 3}\")\n",
    "print(f\"3 >= 3: {3 >= 3}\")\n",
    "print(f\"3 != 3: {3 != 3}\")"
   ]
  }
 ],
 "metadata": {
  "kernelspec": {
   "display_name": "Python 3.9.13 ('Python-Pontus-Gillenang-IiP32uy3')",
   "language": "python",
   "name": "python3"
  },
  "language_info": {
   "codemirror_mode": {
    "name": "ipython",
    "version": 3
   },
   "file_extension": ".py",
   "mimetype": "text/x-python",
   "name": "python",
   "nbconvert_exporter": "python",
   "pygments_lexer": "ipython3",
   "version": "3.9.13"
  },
  "orig_nbformat": 4,
  "vscode": {
   "interpreter": {
    "hash": "361fa5c9d5d1f198330c27440a011a3c79162bc7aaaaa09c789447120907a740"
   }
  }
 },
 "nbformat": 4,
 "nbformat_minor": 2
}
